{
  "nbformat": 4,
  "nbformat_minor": 0,
  "metadata": {
    "colab": {
      "name": "HeatDiseasePT.ipynb",
      "provenance": [],
      "collapsed_sections": []
    },
    "kernelspec": {
      "name": "python3",
      "display_name": "Python 3"
    },
    "language_info": {
      "name": "python"
    }
  },
  "cells": [
    {
      "cell_type": "code",
      "execution_count": 1,
      "metadata": {
        "id": "x8Ft2CLVLHc1"
      },
      "outputs": [],
      "source": [
        "#import library\n",
        "import numpy as np\n",
        "import pandas as pd\n",
        "import matplotlib.pyplot as plt\n",
        "import seaborn as sns\n",
        "import warnings\n",
        "warnings.filterwarnings('ignore')"
      ]
    },
    {
      "cell_type": "code",
      "source": [
        "#load dataset\n",
        "df=pd.read_csv('/content/drive/MyDrive/DL/heart.csv')"
      ],
      "metadata": {
        "id": "OwfN4pvZV9Bu"
      },
      "execution_count": 2,
      "outputs": []
    },
    {
      "cell_type": "code",
      "source": [
        "#check 5 rows\n",
        "df.head()"
      ],
      "metadata": {
        "colab": {
          "base_uri": "https://localhost:8080/",
          "height": 206
        },
        "id": "tHifiDE5WBQI",
        "outputId": "55d2972c-7990-4330-909b-d3ed4f90f9ea"
      },
      "execution_count": 3,
      "outputs": [
        {
          "output_type": "execute_result",
          "data": {
            "text/plain": [
              "   Age Sex ChestPainType  RestingBP  Cholesterol  FastingBS RestingECG  MaxHR  \\\n",
              "0   40   M           ATA        140          289          0     Normal    172   \n",
              "1   49   F           NAP        160          180          0     Normal    156   \n",
              "2   37   M           ATA        130          283          0         ST     98   \n",
              "3   48   F           ASY        138          214          0     Normal    108   \n",
              "4   54   M           NAP        150          195          0     Normal    122   \n",
              "\n",
              "  ExerciseAngina  Oldpeak ST_Slope  HeartDisease  \n",
              "0              N      0.0       Up             0  \n",
              "1              N      1.0     Flat             1  \n",
              "2              N      0.0       Up             0  \n",
              "3              Y      1.5     Flat             1  \n",
              "4              N      0.0       Up             0  "
            ],
            "text/html": [
              "\n",
              "  <div id=\"df-09a5d673-e677-41dd-a9a9-5666c0af386a\">\n",
              "    <div class=\"colab-df-container\">\n",
              "      <div>\n",
              "<style scoped>\n",
              "    .dataframe tbody tr th:only-of-type {\n",
              "        vertical-align: middle;\n",
              "    }\n",
              "\n",
              "    .dataframe tbody tr th {\n",
              "        vertical-align: top;\n",
              "    }\n",
              "\n",
              "    .dataframe thead th {\n",
              "        text-align: right;\n",
              "    }\n",
              "</style>\n",
              "<table border=\"1\" class=\"dataframe\">\n",
              "  <thead>\n",
              "    <tr style=\"text-align: right;\">\n",
              "      <th></th>\n",
              "      <th>Age</th>\n",
              "      <th>Sex</th>\n",
              "      <th>ChestPainType</th>\n",
              "      <th>RestingBP</th>\n",
              "      <th>Cholesterol</th>\n",
              "      <th>FastingBS</th>\n",
              "      <th>RestingECG</th>\n",
              "      <th>MaxHR</th>\n",
              "      <th>ExerciseAngina</th>\n",
              "      <th>Oldpeak</th>\n",
              "      <th>ST_Slope</th>\n",
              "      <th>HeartDisease</th>\n",
              "    </tr>\n",
              "  </thead>\n",
              "  <tbody>\n",
              "    <tr>\n",
              "      <th>0</th>\n",
              "      <td>40</td>\n",
              "      <td>M</td>\n",
              "      <td>ATA</td>\n",
              "      <td>140</td>\n",
              "      <td>289</td>\n",
              "      <td>0</td>\n",
              "      <td>Normal</td>\n",
              "      <td>172</td>\n",
              "      <td>N</td>\n",
              "      <td>0.0</td>\n",
              "      <td>Up</td>\n",
              "      <td>0</td>\n",
              "    </tr>\n",
              "    <tr>\n",
              "      <th>1</th>\n",
              "      <td>49</td>\n",
              "      <td>F</td>\n",
              "      <td>NAP</td>\n",
              "      <td>160</td>\n",
              "      <td>180</td>\n",
              "      <td>0</td>\n",
              "      <td>Normal</td>\n",
              "      <td>156</td>\n",
              "      <td>N</td>\n",
              "      <td>1.0</td>\n",
              "      <td>Flat</td>\n",
              "      <td>1</td>\n",
              "    </tr>\n",
              "    <tr>\n",
              "      <th>2</th>\n",
              "      <td>37</td>\n",
              "      <td>M</td>\n",
              "      <td>ATA</td>\n",
              "      <td>130</td>\n",
              "      <td>283</td>\n",
              "      <td>0</td>\n",
              "      <td>ST</td>\n",
              "      <td>98</td>\n",
              "      <td>N</td>\n",
              "      <td>0.0</td>\n",
              "      <td>Up</td>\n",
              "      <td>0</td>\n",
              "    </tr>\n",
              "    <tr>\n",
              "      <th>3</th>\n",
              "      <td>48</td>\n",
              "      <td>F</td>\n",
              "      <td>ASY</td>\n",
              "      <td>138</td>\n",
              "      <td>214</td>\n",
              "      <td>0</td>\n",
              "      <td>Normal</td>\n",
              "      <td>108</td>\n",
              "      <td>Y</td>\n",
              "      <td>1.5</td>\n",
              "      <td>Flat</td>\n",
              "      <td>1</td>\n",
              "    </tr>\n",
              "    <tr>\n",
              "      <th>4</th>\n",
              "      <td>54</td>\n",
              "      <td>M</td>\n",
              "      <td>NAP</td>\n",
              "      <td>150</td>\n",
              "      <td>195</td>\n",
              "      <td>0</td>\n",
              "      <td>Normal</td>\n",
              "      <td>122</td>\n",
              "      <td>N</td>\n",
              "      <td>0.0</td>\n",
              "      <td>Up</td>\n",
              "      <td>0</td>\n",
              "    </tr>\n",
              "  </tbody>\n",
              "</table>\n",
              "</div>\n",
              "      <button class=\"colab-df-convert\" onclick=\"convertToInteractive('df-09a5d673-e677-41dd-a9a9-5666c0af386a')\"\n",
              "              title=\"Convert this dataframe to an interactive table.\"\n",
              "              style=\"display:none;\">\n",
              "        \n",
              "  <svg xmlns=\"http://www.w3.org/2000/svg\" height=\"24px\"viewBox=\"0 0 24 24\"\n",
              "       width=\"24px\">\n",
              "    <path d=\"M0 0h24v24H0V0z\" fill=\"none\"/>\n",
              "    <path d=\"M18.56 5.44l.94 2.06.94-2.06 2.06-.94-2.06-.94-.94-2.06-.94 2.06-2.06.94zm-11 1L8.5 8.5l.94-2.06 2.06-.94-2.06-.94L8.5 2.5l-.94 2.06-2.06.94zm10 10l.94 2.06.94-2.06 2.06-.94-2.06-.94-.94-2.06-.94 2.06-2.06.94z\"/><path d=\"M17.41 7.96l-1.37-1.37c-.4-.4-.92-.59-1.43-.59-.52 0-1.04.2-1.43.59L10.3 9.45l-7.72 7.72c-.78.78-.78 2.05 0 2.83L4 21.41c.39.39.9.59 1.41.59.51 0 1.02-.2 1.41-.59l7.78-7.78 2.81-2.81c.8-.78.8-2.07 0-2.86zM5.41 20L4 18.59l7.72-7.72 1.47 1.35L5.41 20z\"/>\n",
              "  </svg>\n",
              "      </button>\n",
              "      \n",
              "  <style>\n",
              "    .colab-df-container {\n",
              "      display:flex;\n",
              "      flex-wrap:wrap;\n",
              "      gap: 12px;\n",
              "    }\n",
              "\n",
              "    .colab-df-convert {\n",
              "      background-color: #E8F0FE;\n",
              "      border: none;\n",
              "      border-radius: 50%;\n",
              "      cursor: pointer;\n",
              "      display: none;\n",
              "      fill: #1967D2;\n",
              "      height: 32px;\n",
              "      padding: 0 0 0 0;\n",
              "      width: 32px;\n",
              "    }\n",
              "\n",
              "    .colab-df-convert:hover {\n",
              "      background-color: #E2EBFA;\n",
              "      box-shadow: 0px 1px 2px rgba(60, 64, 67, 0.3), 0px 1px 3px 1px rgba(60, 64, 67, 0.15);\n",
              "      fill: #174EA6;\n",
              "    }\n",
              "\n",
              "    [theme=dark] .colab-df-convert {\n",
              "      background-color: #3B4455;\n",
              "      fill: #D2E3FC;\n",
              "    }\n",
              "\n",
              "    [theme=dark] .colab-df-convert:hover {\n",
              "      background-color: #434B5C;\n",
              "      box-shadow: 0px 1px 3px 1px rgba(0, 0, 0, 0.15);\n",
              "      filter: drop-shadow(0px 1px 2px rgba(0, 0, 0, 0.3));\n",
              "      fill: #FFFFFF;\n",
              "    }\n",
              "  </style>\n",
              "\n",
              "      <script>\n",
              "        const buttonEl =\n",
              "          document.querySelector('#df-09a5d673-e677-41dd-a9a9-5666c0af386a button.colab-df-convert');\n",
              "        buttonEl.style.display =\n",
              "          google.colab.kernel.accessAllowed ? 'block' : 'none';\n",
              "\n",
              "        async function convertToInteractive(key) {\n",
              "          const element = document.querySelector('#df-09a5d673-e677-41dd-a9a9-5666c0af386a');\n",
              "          const dataTable =\n",
              "            await google.colab.kernel.invokeFunction('convertToInteractive',\n",
              "                                                     [key], {});\n",
              "          if (!dataTable) return;\n",
              "\n",
              "          const docLinkHtml = 'Like what you see? Visit the ' +\n",
              "            '<a target=\"_blank\" href=https://colab.research.google.com/notebooks/data_table.ipynb>data table notebook</a>'\n",
              "            + ' to learn more about interactive tables.';\n",
              "          element.innerHTML = '';\n",
              "          dataTable['output_type'] = 'display_data';\n",
              "          await google.colab.output.renderOutput(dataTable, element);\n",
              "          const docLink = document.createElement('div');\n",
              "          docLink.innerHTML = docLinkHtml;\n",
              "          element.appendChild(docLink);\n",
              "        }\n",
              "      </script>\n",
              "    </div>\n",
              "  </div>\n",
              "  "
            ]
          },
          "metadata": {},
          "execution_count": 3
        }
      ]
    },
    {
      "cell_type": "code",
      "source": [
        "#check null value \n",
        "df.isnull().sum()"
      ],
      "metadata": {
        "colab": {
          "base_uri": "https://localhost:8080/"
        },
        "id": "Notsi2E3Wths",
        "outputId": "5781c757-1c3a-4d2b-dee8-5afeedf90ebd"
      },
      "execution_count": 4,
      "outputs": [
        {
          "output_type": "execute_result",
          "data": {
            "text/plain": [
              "Age               0\n",
              "Sex               0\n",
              "ChestPainType     0\n",
              "RestingBP         0\n",
              "Cholesterol       0\n",
              "FastingBS         0\n",
              "RestingECG        0\n",
              "MaxHR             0\n",
              "ExerciseAngina    0\n",
              "Oldpeak           0\n",
              "ST_Slope          0\n",
              "HeartDisease      0\n",
              "dtype: int64"
            ]
          },
          "metadata": {},
          "execution_count": 4
        }
      ]
    },
    {
      "cell_type": "code",
      "source": [
        "#check datattypes \n",
        "df.dtypes"
      ],
      "metadata": {
        "colab": {
          "base_uri": "https://localhost:8080/"
        },
        "id": "qOQOE_6WWxwN",
        "outputId": "54a2fc06-fca3-42c9-a743-b08ce2b9bdb1"
      },
      "execution_count": 5,
      "outputs": [
        {
          "output_type": "execute_result",
          "data": {
            "text/plain": [
              "Age                 int64\n",
              "Sex                object\n",
              "ChestPainType      object\n",
              "RestingBP           int64\n",
              "Cholesterol         int64\n",
              "FastingBS           int64\n",
              "RestingECG         object\n",
              "MaxHR               int64\n",
              "ExerciseAngina     object\n",
              "Oldpeak           float64\n",
              "ST_Slope           object\n",
              "HeartDisease        int64\n",
              "dtype: object"
            ]
          },
          "metadata": {},
          "execution_count": 5
        }
      ]
    },
    {
      "cell_type": "code",
      "source": [
        "#Another way check null value and datatypes\n",
        "df.info()"
      ],
      "metadata": {
        "colab": {
          "base_uri": "https://localhost:8080/"
        },
        "id": "D7SAUXdSW08a",
        "outputId": "c6dcc35a-1f5f-4dea-9701-12388a25d285"
      },
      "execution_count": 6,
      "outputs": [
        {
          "output_type": "stream",
          "name": "stdout",
          "text": [
            "<class 'pandas.core.frame.DataFrame'>\n",
            "RangeIndex: 918 entries, 0 to 917\n",
            "Data columns (total 12 columns):\n",
            " #   Column          Non-Null Count  Dtype  \n",
            "---  ------          --------------  -----  \n",
            " 0   Age             918 non-null    int64  \n",
            " 1   Sex             918 non-null    object \n",
            " 2   ChestPainType   918 non-null    object \n",
            " 3   RestingBP       918 non-null    int64  \n",
            " 4   Cholesterol     918 non-null    int64  \n",
            " 5   FastingBS       918 non-null    int64  \n",
            " 6   RestingECG      918 non-null    object \n",
            " 7   MaxHR           918 non-null    int64  \n",
            " 8   ExerciseAngina  918 non-null    object \n",
            " 9   Oldpeak         918 non-null    float64\n",
            " 10  ST_Slope        918 non-null    object \n",
            " 11  HeartDisease    918 non-null    int64  \n",
            "dtypes: float64(1), int64(6), object(5)\n",
            "memory usage: 86.2+ KB\n"
          ]
        }
      ]
    },
    {
      "cell_type": "code",
      "source": [
        "#check duplicated value \n",
        "df.duplicated().sum()"
      ],
      "metadata": {
        "colab": {
          "base_uri": "https://localhost:8080/"
        },
        "id": "UOlQIIhuW3Ds",
        "outputId": "0412b281-246f-45e7-b96a-2a90b1b102af"
      },
      "execution_count": 7,
      "outputs": [
        {
          "output_type": "execute_result",
          "data": {
            "text/plain": [
              "0"
            ]
          },
          "metadata": {},
          "execution_count": 7
        }
      ]
    },
    {
      "cell_type": "code",
      "source": [
        ""
      ],
      "metadata": {
        "id": "QpaCYUrrYyUJ"
      },
      "execution_count": 7,
      "outputs": []
    },
    {
      "cell_type": "markdown",
      "source": [
        "##Data visualization"
      ],
      "metadata": {
        "id": "EDUiNF4qYyx8"
      }
    },
    {
      "cell_type": "code",
      "source": [
        "df['HeartDisease'].value_counts()"
      ],
      "metadata": {
        "colab": {
          "base_uri": "https://localhost:8080/"
        },
        "id": "gmuo9R-hXHaW",
        "outputId": "ab9205e3-b430-43a2-abb3-2403b385cb78"
      },
      "execution_count": 8,
      "outputs": [
        {
          "output_type": "execute_result",
          "data": {
            "text/plain": [
              "1    508\n",
              "0    410\n",
              "Name: HeartDisease, dtype: int64"
            ]
          },
          "metadata": {},
          "execution_count": 8
        }
      ]
    },
    {
      "cell_type": "code",
      "source": [
        "df['HeartDisease'].value_counts().plot(kind='bar',color='red')"
      ],
      "metadata": {
        "colab": {
          "base_uri": "https://localhost:8080/",
          "height": 279
        },
        "id": "BBfbQnMuX5eu",
        "outputId": "2410d058-ee9d-470b-d6bb-bc9a41b36464"
      },
      "execution_count": 9,
      "outputs": [
        {
          "output_type": "execute_result",
          "data": {
            "text/plain": [
              "<matplotlib.axes._subplots.AxesSubplot at 0x7f0ea2ce7f90>"
            ]
          },
          "metadata": {},
          "execution_count": 9
        },
        {
          "output_type": "display_data",
          "data": {
            "text/plain": [
              "<Figure size 432x288 with 1 Axes>"
            ],
            "image/png": "[encoded data removed]"
          },
          "metadata": {
            "needs_background": "light"
          }
        }
      ]
    },
    {
      "cell_type": "code",
      "source": [
        "bins = np.linspace(df.Age.min(), df.Age.max(), 10)\n",
        "g = sns.FacetGrid(df, col=\"Sex\", hue=\"HeartDisease\", palette=\"Set1\", col_wrap=2)\n",
        "g.map(plt.hist, 'Age', bins=bins, ec=\"k\")\n",
        "g.axes[-1].legend()\n",
        "plt.show()"
      ],
      "metadata": {
        "colab": {
          "base_uri": "https://localhost:8080/",
          "height": 225
        },
        "id": "wUn7vVe0X_YV",
        "outputId": "b2f4055c-1618-47d7-e0b8-5473e4dcc400"
      },
      "execution_count": 10,
      "outputs": [
        {
          "output_type": "display_data",
          "data": {
            "text/plain": [
              "<Figure size 432x216 with 2 Axes>"
            ],
            "image/png": "[encoded data removed]"
          },
          "metadata": {
            "needs_background": "light"
          }
        }
      ]
    },
    {
      "cell_type": "code",
      "source": [
        "bins = np.linspace(df.Cholesterol.min(), df.Cholesterol.max(), 10)\n",
        "g = sns.FacetGrid(df, col=\"Sex\", hue=\"HeartDisease\", palette=\"Set1\", col_wrap=2)\n",
        "g.map(plt.hist, 'Cholesterol', bins=bins, ec=\"k\")\n",
        "g.axes[-1].legend()\n",
        "plt.show()"
      ],
      "metadata": {
        "colab": {
          "base_uri": "https://localhost:8080/",
          "height": 225
        },
        "id": "11QSGpE8YbqJ",
        "outputId": "9bc79bec-70c6-429f-ffa8-07e5e10136a7"
      },
      "execution_count": 11,
      "outputs": [
        {
          "output_type": "display_data",
          "data": {
            "text/plain": [
              "<Figure size 432x216 with 2 Axes>"
            ],
            "image/png": "[encoded data removed]"
          },
          "metadata": {
            "needs_background": "light"
          }
        }
      ]
    },
    {
      "cell_type": "code",
      "source": [
        "bins = np.linspace(df.RestingBP.min(), df.RestingBP.max(), 10)\n",
        "g = sns.FacetGrid(df, col=\"Sex\", hue=\"HeartDisease\", palette=\"Set1\", col_wrap=2)\n",
        "g.map(plt.hist, 'RestingBP', bins=bins, ec=\"k\")\n",
        "g.axes[-1].legend()\n",
        "plt.show()"
      ],
      "metadata": {
        "colab": {
          "base_uri": "https://localhost:8080/",
          "height": 225
        },
        "id": "Z-SEUI8PYlla",
        "outputId": "b1474630-c2c6-4416-dc93-f75ccfb55ac9"
      },
      "execution_count": 12,
      "outputs": [
        {
          "output_type": "display_data",
          "data": {
            "text/plain": [
              "<Figure size 432x216 with 2 Axes>"
            ],
            "image/png": "[encoded data removed]"
          },
          "metadata": {
            "needs_background": "light"
          }
        }
      ]
    },
    {
      "cell_type": "code",
      "source": [
        "bins = np.linspace(df.Oldpeak.min(), df.Oldpeak.max(), 10)\n",
        "g = sns.FacetGrid(df, col=\"Sex\", hue=\"HeartDisease\", palette=\"Set1\", col_wrap=2)\n",
        "g.map(plt.hist, 'Oldpeak', bins=bins, ec=\"k\")\n",
        "g.axes[-1].legend()\n",
        "plt.show()"
      ],
      "metadata": {
        "colab": {
          "base_uri": "https://localhost:8080/",
          "height": 225
        },
        "id": "0HuhFm0zYodQ",
        "outputId": "0dafa6b2-41f8-4b7f-eae1-1d424e792820"
      },
      "execution_count": 13,
      "outputs": [
        {
          "output_type": "display_data",
          "data": {
            "text/plain": [
              "<Figure size 432x216 with 2 Axes>"
            ],
            "image/png": "[encoded data removed]"
          },
          "metadata": {
            "needs_background": "light"
          }
        }
      ]
    },
    {
      "cell_type": "code",
      "source": [
        "bins = np.linspace(df.FastingBS.min(), df.FastingBS.max(), 10)\n",
        "g = sns.FacetGrid(df, col=\"Sex\", hue=\"HeartDisease\", palette=\"Set1\", col_wrap=2)\n",
        "g.map(plt.hist, 'FastingBS', bins=bins, ec=\"k\")\n",
        "g.axes[-1].legend()\n",
        "plt.show()"
      ],
      "metadata": {
        "colab": {
          "base_uri": "https://localhost:8080/",
          "height": 225
        },
        "id": "Qsjj9wL4Zadq",
        "outputId": "b746e521-f574-4e31-f3ce-34210f6022ae"
      },
      "execution_count": 14,
      "outputs": [
        {
          "output_type": "display_data",
          "data": {
            "text/plain": [
              "<Figure size 432x216 with 2 Axes>"
            ],
            "image/png": "[encoded data removed]"
          },
          "metadata": {
            "needs_background": "light"
          }
        }
      ]
    },
    {
      "cell_type": "code",
      "source": [
        "sns.pairplot(df[[\"Age\", \"MaxHR\"]], hue=\"Age\")\n",
        "plt.show()"
      ],
      "metadata": {
        "colab": {
          "base_uri": "https://localhost:8080/",
          "height": 197
        },
        "id": "kWa-GfY1Yq66",
        "outputId": "bcffc875-d7fd-4a32-d7a7-3c4b5aacfb1d"
      },
      "execution_count": 15,
      "outputs": [
        {
          "output_type": "display_data",
          "data": {
            "text/plain": [
              "<Figure size 207.375x180 with 2 Axes>"
            ],
            "image/png": "[encoded data removed]"
          },
          "metadata": {
            "needs_background": "light"
          }
        }
      ]
    },
    {
      "cell_type": "markdown",
      "source": [
        "##Change datatype object to numerical"
      ],
      "metadata": {
        "id": "VATlc-ZwZ2Cl"
      }
    },
    {
      "cell_type": "code",
      "source": [
        "#select object type data\n",
        "df_cat=df.select_dtypes(object)\n",
        "print(df_cat)\n",
        "print(df_cat.dtypes)"
      ],
      "metadata": {
        "colab": {
          "base_uri": "https://localhost:8080/"
        },
        "id": "YygzU_ZPZPbH",
        "outputId": "aba6d2a1-9daa-498f-b673-25a144969b05"
      },
      "execution_count": 16,
      "outputs": [
        {
          "output_type": "stream",
          "name": "stdout",
          "text": [
            "    Sex ChestPainType RestingECG ExerciseAngina ST_Slope\n",
            "0     M           ATA     Normal              N       Up\n",
            "1     F           NAP     Normal              N     Flat\n",
            "2     M           ATA         ST              N       Up\n",
            "3     F           ASY     Normal              Y     Flat\n",
            "4     M           NAP     Normal              N       Up\n",
            "..   ..           ...        ...            ...      ...\n",
            "913   M            TA     Normal              N     Flat\n",
            "914   M           ASY     Normal              N     Flat\n",
            "915   M           ASY     Normal              Y     Flat\n",
            "916   F           ATA        LVH              N     Flat\n",
            "917   M           NAP     Normal              N       Up\n",
            "\n",
            "[918 rows x 5 columns]\n",
            "Sex               object\n",
            "ChestPainType     object\n",
            "RestingECG        object\n",
            "ExerciseAngina    object\n",
            "ST_Slope          object\n",
            "dtype: object\n"
          ]
        }
      ]
    },
    {
      "cell_type": "code",
      "source": [
        "#select numberical type data\n",
        "df_num=df.select_dtypes(['int64','float64'])\n",
        "print(df_num)\n",
        "print(df_num.dtypes)"
      ],
      "metadata": {
        "colab": {
          "base_uri": "https://localhost:8080/"
        },
        "id": "k09_HSOEaZU5",
        "outputId": "b7201240-23b9-45fb-803c-28cd7ba5e2d2"
      },
      "execution_count": 17,
      "outputs": [
        {
          "output_type": "stream",
          "name": "stdout",
          "text": [
            "     Age  RestingBP  Cholesterol  FastingBS  MaxHR  Oldpeak  HeartDisease\n",
            "0     40        140          289          0    172      0.0             0\n",
            "1     49        160          180          0    156      1.0             1\n",
            "2     37        130          283          0     98      0.0             0\n",
            "3     48        138          214          0    108      1.5             1\n",
            "4     54        150          195          0    122      0.0             0\n",
            "..   ...        ...          ...        ...    ...      ...           ...\n",
            "913   45        110          264          0    132      1.2             1\n",
            "914   68        144          193          1    141      3.4             1\n",
            "915   57        130          131          0    115      1.2             1\n",
            "916   57        130          236          0    174      0.0             1\n",
            "917   38        138          175          0    173      0.0             0\n",
            "\n",
            "[918 rows x 7 columns]\n",
            "Age               int64\n",
            "RestingBP         int64\n",
            "Cholesterol       int64\n",
            "FastingBS         int64\n",
            "MaxHR             int64\n",
            "Oldpeak         float64\n",
            "HeartDisease      int64\n",
            "dtype: object\n"
          ]
        }
      ]
    },
    {
      "cell_type": "code",
      "source": [
        "#change datatyp df_cat using LabelEncoder\n",
        "from sklearn.preprocessing import LabelEncoder"
      ],
      "metadata": {
        "id": "yMCj-I1Sa0Vm"
      },
      "execution_count": 18,
      "outputs": []
    },
    {
      "cell_type": "code",
      "source": [
        "for col in df_cat:\n",
        "    le=LabelEncoder()\n",
        "    df_cat[col]=le.fit_transform(df_cat[col])"
      ],
      "metadata": {
        "id": "WWd3BG_ibJBR"
      },
      "execution_count": 19,
      "outputs": []
    },
    {
      "cell_type": "code",
      "source": [
        "#CONCATENATE BOTH DATAFRAME TO JOIN DATAFRAME DF_NUM AND DF_CAT AND DF1 HOLD ALL\n",
        "df1=pd.concat([df_cat,df_num],axis=1)"
      ],
      "metadata": {
        "id": "WhdnIp3HbMhB"
      },
      "execution_count": 20,
      "outputs": []
    },
    {
      "cell_type": "code",
      "source": [
        "#CHECK DATTYPES DF1\n",
        "df1.info()"
      ],
      "metadata": {
        "colab": {
          "base_uri": "https://localhost:8080/"
        },
        "id": "8J1HaedHeLea",
        "outputId": "59834e85-669e-4fbc-97ab-a3f6e4287a7b"
      },
      "execution_count": 21,
      "outputs": [
        {
          "output_type": "stream",
          "name": "stdout",
          "text": [
            "<class 'pandas.core.frame.DataFrame'>\n",
            "RangeIndex: 918 entries, 0 to 917\n",
            "Data columns (total 12 columns):\n",
            " #   Column          Non-Null Count  Dtype  \n",
            "---  ------          --------------  -----  \n",
            " 0   Sex             918 non-null    int64  \n",
            " 1   ChestPainType   918 non-null    int64  \n",
            " 2   RestingECG      918 non-null    int64  \n",
            " 3   ExerciseAngina  918 non-null    int64  \n",
            " 4   ST_Slope        918 non-null    int64  \n",
            " 5   Age             918 non-null    int64  \n",
            " 6   RestingBP       918 non-null    int64  \n",
            " 7   Cholesterol     918 non-null    int64  \n",
            " 8   FastingBS       918 non-null    int64  \n",
            " 9   MaxHR           918 non-null    int64  \n",
            " 10  Oldpeak         918 non-null    float64\n",
            " 11  HeartDisease    918 non-null    int64  \n",
            "dtypes: float64(1), int64(11)\n",
            "memory usage: 86.2 KB\n"
          ]
        }
      ]
    },
    {
      "cell_type": "markdown",
      "source": [
        "##TRAIN THE MODEL"
      ],
      "metadata": {
        "id": "XJHr9NMuelCw"
      }
    },
    {
      "cell_type": "code",
      "source": [
        "x=df1.drop('HeartDisease',axis=1) #INPUT\n",
        "y=df1['HeartDisease'] #OUTPUT"
      ],
      "metadata": {
        "id": "k2pE9K1senY5"
      },
      "execution_count": 22,
      "outputs": []
    },
    {
      "cell_type": "code",
      "source": [
        "#TRAIN_TEST_SPLIT\n",
        "from sklearn.model_selection import train_test_split"
      ],
      "metadata": {
        "id": "tKqOr-5We3yu"
      },
      "execution_count": 23,
      "outputs": []
    },
    {
      "cell_type": "code",
      "source": [
        "x_train,x_test,y_train,y_test=train_test_split(x,y,test_size=0.3,random_state=1)"
      ],
      "metadata": {
        "id": "L_RZqUQwfEWh"
      },
      "execution_count": 24,
      "outputs": []
    },
    {
      "cell_type": "code",
      "source": [
        "#WORK ON STANDARDSCALER\n",
        "from sklearn.preprocessing import StandardScaler\n",
        "#FIT_TRANSFORM TRAING DATA X_TRAIN\n",
        "#TRANSFORM USE ONLY TESTING DATA MEANS X_TEST\n",
        "ss=StandardScaler()\n",
        "x_train=ss.fit_transform(x_train)\n",
        "x_test=ss.transform(x_test)"
      ],
      "metadata": {
        "id": "9Yl0NnjXfRy4"
      },
      "execution_count": 25,
      "outputs": []
    },
    {
      "cell_type": "code",
      "source": [
        "x.shape"
      ],
      "metadata": {
        "colab": {
          "base_uri": "https://localhost:8080/"
        },
        "id": "doktOuTFfk_p",
        "outputId": "64c3d9b1-9e04-42f3-f5b0-17f57ae5db8d"
      },
      "execution_count": 26,
      "outputs": [
        {
          "output_type": "execute_result",
          "data": {
            "text/plain": [
              "(918, 11)"
            ]
          },
          "metadata": {},
          "execution_count": 26
        }
      ]
    },
    {
      "cell_type": "markdown",
      "source": [
        "##CREATE NURAL NETWORK"
      ],
      "metadata": {
        "id": "pMToSxZmgHXO"
      }
    },
    {
      "cell_type": "code",
      "source": [
        "import tensorflow as tf"
      ],
      "metadata": {
        "id": "vqM-hA_xfwxh"
      },
      "execution_count": 27,
      "outputs": []
    },
    {
      "cell_type": "code",
      "source": [
        "#create object of sequential class\n",
        "model=tf.keras.models.Sequential([\n",
        "            tf.keras.layers.Dense(units=20,activation='relu',input_shape=(x.shape[1],)), #hidden layers 1\n",
        "            tf.keras.layers.Dense(units=20,activation='relu'), #hidden layers 2\n",
        "            tf.keras.layers.Dense(units=1,activation='sigmoid') #output layer\n",
        "])"
      ],
      "metadata": {
        "id": "UGqgdKdRgMT1"
      },
      "execution_count": 28,
      "outputs": []
    },
    {
      "cell_type": "code",
      "source": [
        "#to show sumary of model\n",
        "model.summary()"
      ],
      "metadata": {
        "colab": {
          "base_uri": "https://localhost:8080/"
        },
        "id": "v9TTlmlDgdSU",
        "outputId": "f8206da2-e358-4d99-95e1-2946390fd73d"
      },
      "execution_count": 29,
      "outputs": [
        {
          "output_type": "stream",
          "name": "stdout",
          "text": [
            "Model: \"sequential\"\n",
            "_________________________________________________________________\n",
            " Layer (type)                Output Shape              Param #   \n",
            "=================================================================\n",
            " dense (Dense)               (None, 20)                240       \n",
            "                                                                 \n",
            " dense_1 (Dense)             (None, 20)                420       \n",
            "                                                                 \n",
            " dense_2 (Dense)             (None, 1)                 21        \n",
            "                                                                 \n",
            "=================================================================\n",
            "Total params: 681\n",
            "Trainable params: 681\n",
            "Non-trainable params: 0\n",
            "_________________________________________________________________\n"
          ]
        }
      ]
    },
    {
      "cell_type": "code",
      "source": [
        "#compile the model\n",
        "model.compile(optimizer='sgd',loss='binary_crossentropy',metrics=['accuracy'])"
      ],
      "metadata": {
        "id": "PVVfhj1mgjmt"
      },
      "execution_count": 30,
      "outputs": []
    },
    {
      "cell_type": "code",
      "source": [
        "#Early Stopping :\n",
        "from tensorflow.keras.callbacks import EarlyStopping            \n",
        "#callbacks inbuilt parameter of fit() \n",
        "#create callback : -\n",
        "#EarlyStopping() inbuilt function\n",
        "callback=EarlyStopping(\n",
        "    monitor=\"val_loss\",  #val_loss means testing error\n",
        "    min_delta=0.00001, #value of lambda \n",
        "    patience=20,\n",
        "    verbose=1,\n",
        "    mode=\"auto\", #min loss \n",
        "    baseline=None,\n",
        "    restore_best_weights=False\n",
        ")"
      ],
      "metadata": {
        "id": "QodwwWeagthP"
      },
      "execution_count": 31,
      "outputs": []
    },
    {
      "cell_type": "code",
      "source": [
        "#Train the model, use inbulid method fit()\n",
        "trained_model=model.fit(x_train,y_train,epochs=3500,validation_data=(x_test,y_test),callbacks=callback)\n",
        "#trained_model user defined object"
      ],
      "metadata": {
        "colab": {
          "base_uri": "https://localhost:8080/"
        },
        "id": "pirOL86MhUoo",
        "outputId": "4762a684-3f56-48c2-b3f8-0f65c07d429d"
      },
      "execution_count": 32,
      "outputs": [
        {
          "output_type": "stream",
          "name": "stdout",
          "text": [
            "Epoch 1/3500\n",
            "21/21 [==============================] - 1s 19ms/step - loss: 0.7201 - accuracy: 0.4050 - val_loss: 0.6890 - val_accuracy: 0.4783\n",
            "Epoch 2/3500\n",
            "21/21 [==============================] - 0s 6ms/step - loss: 0.6940 - accuracy: 0.4782 - val_loss: 0.6640 - val_accuracy: 0.5435\n",
            "Epoch 3/3500\n",
            "21/21 [==============================] - 0s 6ms/step - loss: 0.6718 - accuracy: 0.5343 - val_loss: 0.6415 - val_accuracy: 0.5942\n",
            "Epoch 4/3500\n",
            "21/21 [==============================] - 0s 7ms/step - loss: 0.6508 - accuracy: 0.5935 - val_loss: 0.6197 - val_accuracy: 0.6594\n",
            "Epoch 5/3500\n",
            "21/21 [==============================] - 0s 7ms/step - loss: 0.6309 - accuracy: 0.6558 - val_loss: 0.6006 - val_accuracy: 0.7174\n",
            "Epoch 6/3500\n",
            "21/21 [==============================] - 0s 9ms/step - loss: 0.6122 - accuracy: 0.7259 - val_loss: 0.5834 - val_accuracy: 0.7717\n",
            "Epoch 7/3500\n",
            "21/21 [==============================] - 0s 9ms/step - loss: 0.5934 - accuracy: 0.7726 - val_loss: 0.5670 - val_accuracy: 0.7971\n",
            "Epoch 8/3500\n",
            "21/21 [==============================] - 0s 8ms/step - loss: 0.5762 - accuracy: 0.7913 - val_loss: 0.5497 - val_accuracy: 0.8080\n",
            "Epoch 9/3500\n",
            "21/21 [==============================] - 0s 9ms/step - loss: 0.5586 - accuracy: 0.7975 - val_loss: 0.5348 - val_accuracy: 0.7971\n",
            "Epoch 10/3500\n",
            "21/21 [==============================] - 0s 8ms/step - loss: 0.5432 - accuracy: 0.7991 - val_loss: 0.5195 - val_accuracy: 0.8043\n",
            "Epoch 11/3500\n",
            "21/21 [==============================] - 0s 7ms/step - loss: 0.5275 - accuracy: 0.8084 - val_loss: 0.5066 - val_accuracy: 0.8080\n",
            "Epoch 12/3500\n",
            "21/21 [==============================] - 0s 7ms/step - loss: 0.5128 - accuracy: 0.8193 - val_loss: 0.4930 - val_accuracy: 0.8043\n",
            "Epoch 13/3500\n",
            "21/21 [==============================] - 0s 6ms/step - loss: 0.4984 - accuracy: 0.8193 - val_loss: 0.4814 - val_accuracy: 0.8080\n",
            "Epoch 14/3500\n",
            "21/21 [==============================] - 0s 10ms/step - loss: 0.4862 - accuracy: 0.8162 - val_loss: 0.4709 - val_accuracy: 0.8225\n",
            "Epoch 15/3500\n",
            "21/21 [==============================] - 0s 6ms/step - loss: 0.4737 - accuracy: 0.8224 - val_loss: 0.4620 - val_accuracy: 0.8225\n",
            "Epoch 16/3500\n",
            "21/21 [==============================] - 0s 8ms/step - loss: 0.4628 - accuracy: 0.8287 - val_loss: 0.4532 - val_accuracy: 0.8261\n",
            "Epoch 17/3500\n",
            "21/21 [==============================] - 0s 8ms/step - loss: 0.4527 - accuracy: 0.8318 - val_loss: 0.4430 - val_accuracy: 0.8261\n",
            "Epoch 18/3500\n",
            "21/21 [==============================] - 0s 7ms/step - loss: 0.4450 - accuracy: 0.8318 - val_loss: 0.4354 - val_accuracy: 0.8333\n",
            "Epoch 19/3500\n",
            "21/21 [==============================] - 0s 12ms/step - loss: 0.4362 - accuracy: 0.8364 - val_loss: 0.4282 - val_accuracy: 0.8333\n",
            "Epoch 20/3500\n",
            "21/21 [==============================] - 0s 16ms/step - loss: 0.4291 - accuracy: 0.8333 - val_loss: 0.4226 - val_accuracy: 0.8333\n",
            "Epoch 21/3500\n",
            "21/21 [==============================] - 0s 7ms/step - loss: 0.4221 - accuracy: 0.8349 - val_loss: 0.4180 - val_accuracy: 0.8370\n",
            "Epoch 22/3500\n",
            "21/21 [==============================] - 0s 8ms/step - loss: 0.4156 - accuracy: 0.8396 - val_loss: 0.4120 - val_accuracy: 0.8370\n",
            "Epoch 23/3500\n",
            "21/21 [==============================] - 0s 10ms/step - loss: 0.4103 - accuracy: 0.8396 - val_loss: 0.4068 - val_accuracy: 0.8478\n",
            "Epoch 24/3500\n",
            "21/21 [==============================] - 0s 8ms/step - loss: 0.4053 - accuracy: 0.8364 - val_loss: 0.4044 - val_accuracy: 0.8478\n",
            "Epoch 25/3500\n",
            "21/21 [==============================] - 0s 13ms/step - loss: 0.4007 - accuracy: 0.8411 - val_loss: 0.4009 - val_accuracy: 0.8551\n",
            "Epoch 26/3500\n",
            "21/21 [==============================] - 0s 5ms/step - loss: 0.3965 - accuracy: 0.8411 - val_loss: 0.3990 - val_accuracy: 0.8551\n",
            "Epoch 27/3500\n",
            "21/21 [==============================] - 0s 6ms/step - loss: 0.3937 - accuracy: 0.8427 - val_loss: 0.3955 - val_accuracy: 0.8551\n",
            "Epoch 28/3500\n",
            "21/21 [==============================] - 0s 9ms/step - loss: 0.3901 - accuracy: 0.8427 - val_loss: 0.3924 - val_accuracy: 0.8551\n",
            "Epoch 29/3500\n",
            "21/21 [==============================] - 0s 8ms/step - loss: 0.3870 - accuracy: 0.8458 - val_loss: 0.3917 - val_accuracy: 0.8551\n",
            "Epoch 30/3500\n",
            "21/21 [==============================] - 0s 8ms/step - loss: 0.3842 - accuracy: 0.8427 - val_loss: 0.3888 - val_accuracy: 0.8551\n",
            "Epoch 31/3500\n",
            "21/21 [==============================] - 0s 7ms/step - loss: 0.3811 - accuracy: 0.8427 - val_loss: 0.3863 - val_accuracy: 0.8551\n",
            "Epoch 32/3500\n",
            "21/21 [==============================] - 0s 7ms/step - loss: 0.3784 - accuracy: 0.8427 - val_loss: 0.3846 - val_accuracy: 0.8551\n",
            "Epoch 33/3500\n",
            "21/21 [==============================] - 0s 6ms/step - loss: 0.3759 - accuracy: 0.8442 - val_loss: 0.3821 - val_accuracy: 0.8551\n",
            "Epoch 34/3500\n",
            "21/21 [==============================] - 0s 6ms/step - loss: 0.3734 - accuracy: 0.8458 - val_loss: 0.3802 - val_accuracy: 0.8551\n",
            "Epoch 35/3500\n",
            "21/21 [==============================] - 0s 8ms/step - loss: 0.3714 - accuracy: 0.8442 - val_loss: 0.3770 - val_accuracy: 0.8551\n",
            "Epoch 36/3500\n",
            "21/21 [==============================] - 0s 11ms/step - loss: 0.3696 - accuracy: 0.8474 - val_loss: 0.3756 - val_accuracy: 0.8551\n",
            "Epoch 37/3500\n",
            "21/21 [==============================] - 0s 7ms/step - loss: 0.3678 - accuracy: 0.8489 - val_loss: 0.3755 - val_accuracy: 0.8551\n",
            "Epoch 38/3500\n",
            "21/21 [==============================] - 0s 11ms/step - loss: 0.3658 - accuracy: 0.8474 - val_loss: 0.3727 - val_accuracy: 0.8587\n",
            "Epoch 39/3500\n",
            "21/21 [==============================] - 1s 24ms/step - loss: 0.3642 - accuracy: 0.8489 - val_loss: 0.3723 - val_accuracy: 0.8623\n",
            "Epoch 40/3500\n",
            "21/21 [==============================] - 0s 6ms/step - loss: 0.3625 - accuracy: 0.8489 - val_loss: 0.3719 - val_accuracy: 0.8623\n",
            "Epoch 41/3500\n",
            "21/21 [==============================] - 0s 10ms/step - loss: 0.3607 - accuracy: 0.8489 - val_loss: 0.3700 - val_accuracy: 0.8587\n",
            "Epoch 42/3500\n",
            "21/21 [==============================] - 0s 6ms/step - loss: 0.3593 - accuracy: 0.8458 - val_loss: 0.3691 - val_accuracy: 0.8587\n",
            "Epoch 43/3500\n",
            "21/21 [==============================] - 0s 5ms/step - loss: 0.3575 - accuracy: 0.8489 - val_loss: 0.3687 - val_accuracy: 0.8587\n",
            "Epoch 44/3500\n",
            "21/21 [==============================] - 0s 9ms/step - loss: 0.3560 - accuracy: 0.8442 - val_loss: 0.3686 - val_accuracy: 0.8587\n",
            "Epoch 45/3500\n",
            "21/21 [==============================] - 0s 6ms/step - loss: 0.3547 - accuracy: 0.8505 - val_loss: 0.3679 - val_accuracy: 0.8587\n",
            "Epoch 46/3500\n",
            "21/21 [==============================] - 0s 7ms/step - loss: 0.3533 - accuracy: 0.8489 - val_loss: 0.3674 - val_accuracy: 0.8623\n",
            "Epoch 47/3500\n",
            "21/21 [==============================] - 0s 7ms/step - loss: 0.3521 - accuracy: 0.8458 - val_loss: 0.3668 - val_accuracy: 0.8623\n",
            "Epoch 48/3500\n",
            "21/21 [==============================] - 0s 8ms/step - loss: 0.3509 - accuracy: 0.8474 - val_loss: 0.3666 - val_accuracy: 0.8623\n",
            "Epoch 49/3500\n",
            "21/21 [==============================] - 0s 11ms/step - loss: 0.3497 - accuracy: 0.8442 - val_loss: 0.3659 - val_accuracy: 0.8623\n",
            "Epoch 50/3500\n",
            "21/21 [==============================] - 0s 7ms/step - loss: 0.3486 - accuracy: 0.8505 - val_loss: 0.3645 - val_accuracy: 0.8659\n",
            "Epoch 51/3500\n",
            "21/21 [==============================] - 0s 9ms/step - loss: 0.3474 - accuracy: 0.8505 - val_loss: 0.3638 - val_accuracy: 0.8659\n",
            "Epoch 52/3500\n",
            "21/21 [==============================] - 0s 8ms/step - loss: 0.3463 - accuracy: 0.8520 - val_loss: 0.3634 - val_accuracy: 0.8623\n",
            "Epoch 53/3500\n",
            "21/21 [==============================] - 0s 5ms/step - loss: 0.3452 - accuracy: 0.8489 - val_loss: 0.3616 - val_accuracy: 0.8696\n",
            "Epoch 54/3500\n",
            "21/21 [==============================] - 0s 7ms/step - loss: 0.3443 - accuracy: 0.8489 - val_loss: 0.3616 - val_accuracy: 0.8696\n",
            "Epoch 55/3500\n",
            "21/21 [==============================] - 0s 9ms/step - loss: 0.3432 - accuracy: 0.8505 - val_loss: 0.3619 - val_accuracy: 0.8696\n",
            "Epoch 56/3500\n",
            "21/21 [==============================] - 0s 5ms/step - loss: 0.3423 - accuracy: 0.8505 - val_loss: 0.3613 - val_accuracy: 0.8696\n",
            "Epoch 57/3500\n",
            "21/21 [==============================] - 0s 9ms/step - loss: 0.3412 - accuracy: 0.8505 - val_loss: 0.3612 - val_accuracy: 0.8696\n",
            "Epoch 58/3500\n",
            "21/21 [==============================] - 0s 6ms/step - loss: 0.3402 - accuracy: 0.8489 - val_loss: 0.3602 - val_accuracy: 0.8696\n",
            "Epoch 59/3500\n",
            "21/21 [==============================] - 0s 6ms/step - loss: 0.3397 - accuracy: 0.8505 - val_loss: 0.3601 - val_accuracy: 0.8696\n",
            "Epoch 60/3500\n",
            "21/21 [==============================] - 0s 7ms/step - loss: 0.3385 - accuracy: 0.8505 - val_loss: 0.3607 - val_accuracy: 0.8696\n",
            "Epoch 61/3500\n",
            "21/21 [==============================] - 0s 8ms/step - loss: 0.3375 - accuracy: 0.8505 - val_loss: 0.3633 - val_accuracy: 0.8659\n",
            "Epoch 62/3500\n",
            "21/21 [==============================] - 0s 12ms/step - loss: 0.3369 - accuracy: 0.8520 - val_loss: 0.3620 - val_accuracy: 0.8696\n",
            "Epoch 63/3500\n",
            "21/21 [==============================] - 0s 11ms/step - loss: 0.3359 - accuracy: 0.8536 - val_loss: 0.3609 - val_accuracy: 0.8696\n",
            "Epoch 64/3500\n",
            "21/21 [==============================] - 0s 10ms/step - loss: 0.3350 - accuracy: 0.8520 - val_loss: 0.3596 - val_accuracy: 0.8696\n",
            "Epoch 65/3500\n",
            "21/21 [==============================] - 0s 11ms/step - loss: 0.3342 - accuracy: 0.8551 - val_loss: 0.3594 - val_accuracy: 0.8696\n",
            "Epoch 66/3500\n",
            "21/21 [==============================] - 0s 9ms/step - loss: 0.3333 - accuracy: 0.8567 - val_loss: 0.3597 - val_accuracy: 0.8696\n",
            "Epoch 67/3500\n",
            "21/21 [==============================] - 0s 11ms/step - loss: 0.3323 - accuracy: 0.8551 - val_loss: 0.3595 - val_accuracy: 0.8696\n",
            "Epoch 68/3500\n",
            "21/21 [==============================] - 0s 8ms/step - loss: 0.3313 - accuracy: 0.8583 - val_loss: 0.3602 - val_accuracy: 0.8696\n",
            "Epoch 69/3500\n",
            "21/21 [==============================] - 0s 13ms/step - loss: 0.3305 - accuracy: 0.8583 - val_loss: 0.3589 - val_accuracy: 0.8696\n",
            "Epoch 70/3500\n",
            "21/21 [==============================] - 0s 8ms/step - loss: 0.3296 - accuracy: 0.8567 - val_loss: 0.3591 - val_accuracy: 0.8696\n",
            "Epoch 71/3500\n",
            "21/21 [==============================] - 0s 7ms/step - loss: 0.3288 - accuracy: 0.8598 - val_loss: 0.3588 - val_accuracy: 0.8696\n",
            "Epoch 72/3500\n",
            "21/21 [==============================] - 0s 8ms/step - loss: 0.3278 - accuracy: 0.8567 - val_loss: 0.3581 - val_accuracy: 0.8696\n",
            "Epoch 73/3500\n",
            "21/21 [==============================] - 0s 12ms/step - loss: 0.3269 - accuracy: 0.8583 - val_loss: 0.3577 - val_accuracy: 0.8696\n",
            "Epoch 74/3500\n",
            "21/21 [==============================] - 0s 7ms/step - loss: 0.3261 - accuracy: 0.8583 - val_loss: 0.3572 - val_accuracy: 0.8696\n",
            "Epoch 75/3500\n",
            "21/21 [==============================] - 0s 9ms/step - loss: 0.3252 - accuracy: 0.8598 - val_loss: 0.3573 - val_accuracy: 0.8659\n",
            "Epoch 76/3500\n",
            "21/21 [==============================] - 0s 8ms/step - loss: 0.3243 - accuracy: 0.8614 - val_loss: 0.3575 - val_accuracy: 0.8659\n",
            "Epoch 77/3500\n",
            "21/21 [==============================] - 0s 6ms/step - loss: 0.3236 - accuracy: 0.8614 - val_loss: 0.3592 - val_accuracy: 0.8696\n",
            "Epoch 78/3500\n",
            "21/21 [==============================] - 0s 7ms/step - loss: 0.3227 - accuracy: 0.8614 - val_loss: 0.3571 - val_accuracy: 0.8659\n",
            "Epoch 79/3500\n",
            "21/21 [==============================] - 0s 5ms/step - loss: 0.3220 - accuracy: 0.8629 - val_loss: 0.3595 - val_accuracy: 0.8696\n",
            "Epoch 80/3500\n",
            "21/21 [==============================] - 0s 9ms/step - loss: 0.3213 - accuracy: 0.8614 - val_loss: 0.3593 - val_accuracy: 0.8659\n",
            "Epoch 81/3500\n",
            "21/21 [==============================] - 0s 15ms/step - loss: 0.3206 - accuracy: 0.8645 - val_loss: 0.3590 - val_accuracy: 0.8659\n",
            "Epoch 82/3500\n",
            "21/21 [==============================] - 0s 8ms/step - loss: 0.3198 - accuracy: 0.8676 - val_loss: 0.3560 - val_accuracy: 0.8696\n",
            "Epoch 83/3500\n",
            "21/21 [==============================] - 0s 18ms/step - loss: 0.3190 - accuracy: 0.8676 - val_loss: 0.3552 - val_accuracy: 0.8696\n",
            "Epoch 84/3500\n",
            "21/21 [==============================] - 0s 10ms/step - loss: 0.3183 - accuracy: 0.8676 - val_loss: 0.3568 - val_accuracy: 0.8696\n",
            "Epoch 85/3500\n",
            "21/21 [==============================] - 0s 7ms/step - loss: 0.3177 - accuracy: 0.8707 - val_loss: 0.3567 - val_accuracy: 0.8696\n",
            "Epoch 86/3500\n",
            "21/21 [==============================] - 0s 5ms/step - loss: 0.3169 - accuracy: 0.8707 - val_loss: 0.3549 - val_accuracy: 0.8696\n",
            "Epoch 87/3500\n",
            "21/21 [==============================] - 0s 5ms/step - loss: 0.3164 - accuracy: 0.8676 - val_loss: 0.3551 - val_accuracy: 0.8696\n",
            "Epoch 88/3500\n",
            "21/21 [==============================] - 0s 8ms/step - loss: 0.3156 - accuracy: 0.8692 - val_loss: 0.3545 - val_accuracy: 0.8696\n",
            "Epoch 89/3500\n",
            "21/21 [==============================] - 0s 8ms/step - loss: 0.3148 - accuracy: 0.8645 - val_loss: 0.3548 - val_accuracy: 0.8696\n",
            "Epoch 90/3500\n",
            "21/21 [==============================] - 0s 6ms/step - loss: 0.3141 - accuracy: 0.8692 - val_loss: 0.3530 - val_accuracy: 0.8696\n",
            "Epoch 91/3500\n",
            "21/21 [==============================] - 0s 5ms/step - loss: 0.3134 - accuracy: 0.8660 - val_loss: 0.3536 - val_accuracy: 0.8696\n",
            "Epoch 92/3500\n",
            "21/21 [==============================] - 0s 5ms/step - loss: 0.3126 - accuracy: 0.8660 - val_loss: 0.3541 - val_accuracy: 0.8732\n",
            "Epoch 93/3500\n",
            "21/21 [==============================] - 0s 6ms/step - loss: 0.3118 - accuracy: 0.8660 - val_loss: 0.3555 - val_accuracy: 0.8696\n",
            "Epoch 94/3500\n",
            "21/21 [==============================] - 0s 9ms/step - loss: 0.3113 - accuracy: 0.8645 - val_loss: 0.3561 - val_accuracy: 0.8696\n",
            "Epoch 95/3500\n",
            "21/21 [==============================] - 0s 6ms/step - loss: 0.3106 - accuracy: 0.8692 - val_loss: 0.3535 - val_accuracy: 0.8732\n",
            "Epoch 96/3500\n",
            "21/21 [==============================] - 0s 8ms/step - loss: 0.3097 - accuracy: 0.8645 - val_loss: 0.3542 - val_accuracy: 0.8696\n",
            "Epoch 97/3500\n",
            "21/21 [==============================] - 0s 9ms/step - loss: 0.3090 - accuracy: 0.8660 - val_loss: 0.3539 - val_accuracy: 0.8696\n",
            "Epoch 98/3500\n",
            "21/21 [==============================] - 0s 10ms/step - loss: 0.3084 - accuracy: 0.8660 - val_loss: 0.3542 - val_accuracy: 0.8696\n",
            "Epoch 99/3500\n",
            "21/21 [==============================] - 0s 10ms/step - loss: 0.3077 - accuracy: 0.8629 - val_loss: 0.3542 - val_accuracy: 0.8696\n",
            "Epoch 100/3500\n",
            "21/21 [==============================] - 0s 7ms/step - loss: 0.3071 - accuracy: 0.8660 - val_loss: 0.3535 - val_accuracy: 0.8732\n",
            "Epoch 101/3500\n",
            "21/21 [==============================] - 0s 13ms/step - loss: 0.3065 - accuracy: 0.8645 - val_loss: 0.3547 - val_accuracy: 0.8732\n",
            "Epoch 102/3500\n",
            "21/21 [==============================] - 0s 10ms/step - loss: 0.3058 - accuracy: 0.8660 - val_loss: 0.3566 - val_accuracy: 0.8696\n",
            "Epoch 103/3500\n",
            "21/21 [==============================] - 0s 5ms/step - loss: 0.3052 - accuracy: 0.8692 - val_loss: 0.3572 - val_accuracy: 0.8696\n",
            "Epoch 104/3500\n",
            "21/21 [==============================] - 0s 5ms/step - loss: 0.3048 - accuracy: 0.8692 - val_loss: 0.3574 - val_accuracy: 0.8696\n",
            "Epoch 105/3500\n",
            "21/21 [==============================] - 0s 5ms/step - loss: 0.3040 - accuracy: 0.8692 - val_loss: 0.3573 - val_accuracy: 0.8696\n",
            "Epoch 106/3500\n",
            "21/21 [==============================] - 0s 7ms/step - loss: 0.3034 - accuracy: 0.8707 - val_loss: 0.3563 - val_accuracy: 0.8696\n",
            "Epoch 107/3500\n",
            "21/21 [==============================] - 0s 11ms/step - loss: 0.3026 - accuracy: 0.8676 - val_loss: 0.3561 - val_accuracy: 0.8696\n",
            "Epoch 108/3500\n",
            "21/21 [==============================] - 0s 15ms/step - loss: 0.3020 - accuracy: 0.8676 - val_loss: 0.3574 - val_accuracy: 0.8696\n",
            "Epoch 109/3500\n",
            "21/21 [==============================] - 0s 12ms/step - loss: 0.3015 - accuracy: 0.8692 - val_loss: 0.3570 - val_accuracy: 0.8696\n",
            "Epoch 110/3500\n",
            "21/21 [==============================] - 0s 12ms/step - loss: 0.3008 - accuracy: 0.8692 - val_loss: 0.3572 - val_accuracy: 0.8696\n",
            "Epoch 110: early stopping\n"
          ]
        }
      ]
    },
    {
      "cell_type": "code",
      "source": [
        "#training data\n",
        "model.evaluate(x_train,y_train)"
      ],
      "metadata": {
        "colab": {
          "base_uri": "https://localhost:8080/"
        },
        "id": "uJdAUX_wha_q",
        "outputId": "d6bd1b31-78e7-4d94-ee87-d7327f33034e"
      },
      "execution_count": 33,
      "outputs": [
        {
          "output_type": "stream",
          "name": "stdout",
          "text": [
            "21/21 [==============================] - 0s 3ms/step - loss: 0.2997 - accuracy: 0.8692\n"
          ]
        },
        {
          "output_type": "execute_result",
          "data": {
            "text/plain": [
              "[0.29969969391822815, 0.8691588640213013]"
            ]
          },
          "metadata": {},
          "execution_count": 33
        }
      ]
    },
    {
      "cell_type": "code",
      "source": [
        "#testing data\n",
        "model.evaluate(x_test,y_test)"
      ],
      "metadata": {
        "colab": {
          "base_uri": "https://localhost:8080/"
        },
        "id": "ERGG8gKUh-9U",
        "outputId": "fa6d8206-8294-4ab4-8276-135612811ed7"
      },
      "execution_count": 34,
      "outputs": [
        {
          "output_type": "stream",
          "name": "stdout",
          "text": [
            "9/9 [==============================] - 0s 2ms/step - loss: 0.3572 - accuracy: 0.8696\n"
          ]
        },
        {
          "output_type": "execute_result",
          "data": {
            "text/plain": [
              "[0.35724085569381714, 0.8695651888847351]"
            ]
          },
          "metadata": {},
          "execution_count": 34
        }
      ]
    },
    {
      "cell_type": "code",
      "source": [
        "plt.plot(trained_model.history['loss'],label='training loss')\n",
        "plt.plot(trained_model.history['val_loss'],label='testing loss')\n",
        "plt.xlabel('no of itration mean epoch')\n",
        "plt.ylabel('error')\n",
        "plt.legend()\n",
        "plt.show()"
      ],
      "metadata": {
        "colab": {
          "base_uri": "https://localhost:8080/",
          "height": 279
        },
        "id": "e4mHCXtSiFKP",
        "outputId": "dfa76689-70e4-4413-f0ea-53753d701365"
      },
      "execution_count": 35,
      "outputs": [
        {
          "output_type": "display_data",
          "data": {
            "text/plain": [
              "<Figure size 432x288 with 1 Axes>"
            ],
            "image/png": "[encoded data removed]"
          },
          "metadata": {
            "needs_background": "light"
          }
        }
      ]
    },
    {
      "cell_type": "code",
      "source": [
        "plt.plot(trained_model.history['accuracy'],label='training accuracy')\n",
        "plt.plot(trained_model.history['val_accuracy'],label='testing accuracy')\n",
        "plt.xlabel('no of itration mean epoch')\n",
        "plt.ylabel('accuracy')\n",
        "plt.legend()\n",
        "plt.show()"
      ],
      "metadata": {
        "colab": {
          "base_uri": "https://localhost:8080/",
          "height": 279
        },
        "id": "Ss4yu1FxiLa7",
        "outputId": "32b028b3-4b19-4be3-deae-b598e5fb23e0"
      },
      "execution_count": 36,
      "outputs": [
        {
          "output_type": "display_data",
          "data": {
            "text/plain": [
              "<Figure size 432x288 with 1 Axes>"
            ],
            "image/png": "[encoded data removed]"
          },
          "metadata": {
            "needs_background": "light"
          }
        }
      ]
    },
    {
      "cell_type": "code",
      "source": [
        "#find the prediction means test the model\n",
        "y_pred=model.predict(x_test).round(2)\n",
        "print(y_pred)"
      ],
      "metadata": {
        "colab": {
          "base_uri": "https://localhost:8080/"
        },
        "id": "hMiZXjueiO4k",
        "outputId": "6308a029-9197-41fa-c35c-3df4f7559c30"
      },
      "execution_count": 38,
      "outputs": [
        {
          "output_type": "stream",
          "name": "stdout",
          "text": [
            "[[0.9 ]\n",
            " [0.97]\n",
            " [0.96]\n",
            " [0.93]\n",
            " [0.67]\n",
            " [0.05]\n",
            " [0.44]\n",
            " [0.22]\n",
            " [0.01]\n",
            " [0.42]\n",
            " [0.04]\n",
            " [0.83]\n",
            " [0.25]\n",
            " [0.87]\n",
            " [0.95]\n",
            " [0.05]\n",
            " [0.93]\n",
            " [0.12]\n",
            " [0.95]\n",
            " [0.93]\n",
            " [0.82]\n",
            " [0.01]\n",
            " [1.  ]\n",
            " [0.01]\n",
            " [0.63]\n",
            " [0.9 ]\n",
            " [0.18]\n",
            " [0.57]\n",
            " [0.77]\n",
            " [0.04]\n",
            " [0.01]\n",
            " [0.01]\n",
            " [0.15]\n",
            " [0.01]\n",
            " [0.94]\n",
            " [0.96]\n",
            " [0.88]\n",
            " [0.95]\n",
            " [0.01]\n",
            " [0.09]\n",
            " [0.73]\n",
            " [0.96]\n",
            " [0.88]\n",
            " [0.17]\n",
            " [0.01]\n",
            " [0.  ]\n",
            " [0.89]\n",
            " [0.06]\n",
            " [0.02]\n",
            " [0.98]\n",
            " [0.04]\n",
            " [0.99]\n",
            " [0.99]\n",
            " [0.15]\n",
            " [0.91]\n",
            " [0.09]\n",
            " [0.95]\n",
            " [0.04]\n",
            " [0.91]\n",
            " [0.18]\n",
            " [0.99]\n",
            " [0.59]\n",
            " [0.92]\n",
            " [0.11]\n",
            " [0.02]\n",
            " [0.99]\n",
            " [0.86]\n",
            " [0.83]\n",
            " [0.02]\n",
            " [0.95]\n",
            " [1.  ]\n",
            " [0.02]\n",
            " [0.88]\n",
            " [0.98]\n",
            " [0.02]\n",
            " [0.89]\n",
            " [0.08]\n",
            " [0.6 ]\n",
            " [0.97]\n",
            " [0.8 ]\n",
            " [0.98]\n",
            " [0.92]\n",
            " [0.89]\n",
            " [0.8 ]\n",
            " [0.86]\n",
            " [0.99]\n",
            " [0.11]\n",
            " [0.35]\n",
            " [0.14]\n",
            " [0.32]\n",
            " [0.96]\n",
            " [0.93]\n",
            " [0.03]\n",
            " [0.73]\n",
            " [0.93]\n",
            " [0.92]\n",
            " [0.93]\n",
            " [0.86]\n",
            " [0.91]\n",
            " [0.6 ]\n",
            " [0.47]\n",
            " [0.01]\n",
            " [0.95]\n",
            " [0.76]\n",
            " [0.93]\n",
            " [0.02]\n",
            " [0.07]\n",
            " [0.33]\n",
            " [0.96]\n",
            " [0.14]\n",
            " [0.09]\n",
            " [0.96]\n",
            " [0.05]\n",
            " [0.17]\n",
            " [0.01]\n",
            " [0.03]\n",
            " [0.88]\n",
            " [0.  ]\n",
            " [0.11]\n",
            " [0.76]\n",
            " [0.9 ]\n",
            " [0.96]\n",
            " [0.91]\n",
            " [0.07]\n",
            " [1.  ]\n",
            " [0.28]\n",
            " [0.94]\n",
            " [0.07]\n",
            " [0.99]\n",
            " [0.97]\n",
            " [0.66]\n",
            " [0.96]\n",
            " [0.42]\n",
            " [0.97]\n",
            " [0.97]\n",
            " [0.66]\n",
            " [0.97]\n",
            " [0.98]\n",
            " [0.07]\n",
            " [0.88]\n",
            " [0.98]\n",
            " [0.08]\n",
            " [0.07]\n",
            " [0.99]\n",
            " [0.91]\n",
            " [0.41]\n",
            " [0.92]\n",
            " [0.93]\n",
            " [0.59]\n",
            " [1.  ]\n",
            " [0.96]\n",
            " [0.1 ]\n",
            " [0.06]\n",
            " [0.04]\n",
            " [0.02]\n",
            " [0.96]\n",
            " [0.  ]\n",
            " [0.96]\n",
            " [0.96]\n",
            " [0.94]\n",
            " [0.64]\n",
            " [0.96]\n",
            " [0.91]\n",
            " [0.2 ]\n",
            " [0.92]\n",
            " [0.29]\n",
            " [0.06]\n",
            " [0.97]\n",
            " [0.96]\n",
            " [0.86]\n",
            " [0.1 ]\n",
            " [0.91]\n",
            " [0.93]\n",
            " [0.95]\n",
            " [0.97]\n",
            " [0.95]\n",
            " [0.04]\n",
            " [0.17]\n",
            " [0.96]\n",
            " [0.76]\n",
            " [0.26]\n",
            " [0.01]\n",
            " [0.03]\n",
            " [0.75]\n",
            " [0.94]\n",
            " [0.01]\n",
            " [0.53]\n",
            " [0.95]\n",
            " [0.18]\n",
            " [0.89]\n",
            " [0.93]\n",
            " [0.74]\n",
            " [0.01]\n",
            " [0.64]\n",
            " [0.84]\n",
            " [0.08]\n",
            " [0.86]\n",
            " [0.06]\n",
            " [0.02]\n",
            " [0.97]\n",
            " [0.96]\n",
            " [0.11]\n",
            " [0.96]\n",
            " [0.02]\n",
            " [0.86]\n",
            " [0.21]\n",
            " [0.08]\n",
            " [0.95]\n",
            " [0.79]\n",
            " [0.52]\n",
            " [0.01]\n",
            " [0.92]\n",
            " [0.91]\n",
            " [0.98]\n",
            " [0.03]\n",
            " [0.12]\n",
            " [0.52]\n",
            " [0.82]\n",
            " [0.87]\n",
            " [0.97]\n",
            " [0.09]\n",
            " [0.63]\n",
            " [0.92]\n",
            " [0.89]\n",
            " [0.97]\n",
            " [0.1 ]\n",
            " [0.18]\n",
            " [0.14]\n",
            " [0.94]\n",
            " [0.07]\n",
            " [0.15]\n",
            " [0.1 ]\n",
            " [0.07]\n",
            " [0.1 ]\n",
            " [0.96]\n",
            " [0.65]\n",
            " [0.99]\n",
            " [0.49]\n",
            " [0.68]\n",
            " [0.97]\n",
            " [0.13]\n",
            " [0.13]\n",
            " [0.88]\n",
            " [0.  ]\n",
            " [0.99]\n",
            " [0.89]\n",
            " [0.43]\n",
            " [0.63]\n",
            " [0.84]\n",
            " [0.35]\n",
            " [0.6 ]\n",
            " [0.98]\n",
            " [0.13]\n",
            " [0.26]\n",
            " [0.08]\n",
            " [0.85]\n",
            " [0.74]\n",
            " [0.73]\n",
            " [0.31]\n",
            " [0.06]\n",
            " [0.41]\n",
            " [0.09]\n",
            " [0.99]\n",
            " [0.03]\n",
            " [0.88]\n",
            " [0.11]\n",
            " [0.13]\n",
            " [0.22]\n",
            " [0.91]\n",
            " [0.04]\n",
            " [0.99]\n",
            " [0.02]\n",
            " [0.94]\n",
            " [0.59]\n",
            " [0.92]\n",
            " [0.45]]\n"
          ]
        }
      ]
    },
    {
      "cell_type": "code",
      "source": [
        "#predict\n",
        "y_pred=np.where(y_pred>=0.5,1,0)\n",
        "print(y_pred)"
      ],
      "metadata": {
        "colab": {
          "base_uri": "https://localhost:8080/"
        },
        "id": "FrqfDyMwiSO5",
        "outputId": "8c368c54-74bb-460b-b779-6a9c4fff23ac"
      },
      "execution_count": 39,
      "outputs": [
        {
          "output_type": "stream",
          "name": "stdout",
          "text": [
            "[[1]\n",
            " [1]\n",
            " [1]\n",
            " [1]\n",
            " [1]\n",
            " [0]\n",
            " [0]\n",
            " [0]\n",
            " [0]\n",
            " [0]\n",
            " [0]\n",
            " [1]\n",
            " [0]\n",
            " [1]\n",
            " [1]\n",
            " [0]\n",
            " [1]\n",
            " [0]\n",
            " [1]\n",
            " [1]\n",
            " [1]\n",
            " [0]\n",
            " [1]\n",
            " [0]\n",
            " [1]\n",
            " [1]\n",
            " [0]\n",
            " [1]\n",
            " [1]\n",
            " [0]\n",
            " [0]\n",
            " [0]\n",
            " [0]\n",
            " [0]\n",
            " [1]\n",
            " [1]\n",
            " [1]\n",
            " [1]\n",
            " [0]\n",
            " [0]\n",
            " [1]\n",
            " [1]\n",
            " [1]\n",
            " [0]\n",
            " [0]\n",
            " [0]\n",
            " [1]\n",
            " [0]\n",
            " [0]\n",
            " [1]\n",
            " [0]\n",
            " [1]\n",
            " [1]\n",
            " [0]\n",
            " [1]\n",
            " [0]\n",
            " [1]\n",
            " [0]\n",
            " [1]\n",
            " [0]\n",
            " [1]\n",
            " [1]\n",
            " [1]\n",
            " [0]\n",
            " [0]\n",
            " [1]\n",
            " [1]\n",
            " [1]\n",
            " [0]\n",
            " [1]\n",
            " [1]\n",
            " [0]\n",
            " [1]\n",
            " [1]\n",
            " [0]\n",
            " [1]\n",
            " [0]\n",
            " [1]\n",
            " [1]\n",
            " [1]\n",
            " [1]\n",
            " [1]\n",
            " [1]\n",
            " [1]\n",
            " [1]\n",
            " [1]\n",
            " [0]\n",
            " [0]\n",
            " [0]\n",
            " [0]\n",
            " [1]\n",
            " [1]\n",
            " [0]\n",
            " [1]\n",
            " [1]\n",
            " [1]\n",
            " [1]\n",
            " [1]\n",
            " [1]\n",
            " [1]\n",
            " [0]\n",
            " [0]\n",
            " [1]\n",
            " [1]\n",
            " [1]\n",
            " [0]\n",
            " [0]\n",
            " [0]\n",
            " [1]\n",
            " [0]\n",
            " [0]\n",
            " [1]\n",
            " [0]\n",
            " [0]\n",
            " [0]\n",
            " [0]\n",
            " [1]\n",
            " [0]\n",
            " [0]\n",
            " [1]\n",
            " [1]\n",
            " [1]\n",
            " [1]\n",
            " [0]\n",
            " [1]\n",
            " [0]\n",
            " [1]\n",
            " [0]\n",
            " [1]\n",
            " [1]\n",
            " [1]\n",
            " [1]\n",
            " [0]\n",
            " [1]\n",
            " [1]\n",
            " [1]\n",
            " [1]\n",
            " [1]\n",
            " [0]\n",
            " [1]\n",
            " [1]\n",
            " [0]\n",
            " [0]\n",
            " [1]\n",
            " [1]\n",
            " [0]\n",
            " [1]\n",
            " [1]\n",
            " [1]\n",
            " [1]\n",
            " [1]\n",
            " [0]\n",
            " [0]\n",
            " [0]\n",
            " [0]\n",
            " [1]\n",
            " [0]\n",
            " [1]\n",
            " [1]\n",
            " [1]\n",
            " [1]\n",
            " [1]\n",
            " [1]\n",
            " [0]\n",
            " [1]\n",
            " [0]\n",
            " [0]\n",
            " [1]\n",
            " [1]\n",
            " [1]\n",
            " [0]\n",
            " [1]\n",
            " [1]\n",
            " [1]\n",
            " [1]\n",
            " [1]\n",
            " [0]\n",
            " [0]\n",
            " [1]\n",
            " [1]\n",
            " [0]\n",
            " [0]\n",
            " [0]\n",
            " [1]\n",
            " [1]\n",
            " [0]\n",
            " [1]\n",
            " [1]\n",
            " [0]\n",
            " [1]\n",
            " [1]\n",
            " [1]\n",
            " [0]\n",
            " [1]\n",
            " [1]\n",
            " [0]\n",
            " [1]\n",
            " [0]\n",
            " [0]\n",
            " [1]\n",
            " [1]\n",
            " [0]\n",
            " [1]\n",
            " [0]\n",
            " [1]\n",
            " [0]\n",
            " [0]\n",
            " [1]\n",
            " [1]\n",
            " [1]\n",
            " [0]\n",
            " [1]\n",
            " [1]\n",
            " [1]\n",
            " [0]\n",
            " [0]\n",
            " [1]\n",
            " [1]\n",
            " [1]\n",
            " [1]\n",
            " [0]\n",
            " [1]\n",
            " [1]\n",
            " [1]\n",
            " [1]\n",
            " [0]\n",
            " [0]\n",
            " [0]\n",
            " [1]\n",
            " [0]\n",
            " [0]\n",
            " [0]\n",
            " [0]\n",
            " [0]\n",
            " [1]\n",
            " [1]\n",
            " [1]\n",
            " [0]\n",
            " [1]\n",
            " [1]\n",
            " [0]\n",
            " [0]\n",
            " [1]\n",
            " [0]\n",
            " [1]\n",
            " [1]\n",
            " [0]\n",
            " [1]\n",
            " [1]\n",
            " [0]\n",
            " [1]\n",
            " [1]\n",
            " [0]\n",
            " [0]\n",
            " [0]\n",
            " [1]\n",
            " [1]\n",
            " [1]\n",
            " [0]\n",
            " [0]\n",
            " [0]\n",
            " [0]\n",
            " [1]\n",
            " [0]\n",
            " [1]\n",
            " [0]\n",
            " [0]\n",
            " [0]\n",
            " [1]\n",
            " [0]\n",
            " [1]\n",
            " [0]\n",
            " [1]\n",
            " [1]\n",
            " [1]\n",
            " [0]]\n"
          ]
        }
      ]
    },
    {
      "cell_type": "code",
      "source": [
        "#Generate classification report and confusion matrix\n",
        "from sklearn.metrics import classification_report,confusion_matrix\n",
        "print(classification_report(y_test,y_pred))\n",
        "print(confusion_matrix(y_test,y_pred))"
      ],
      "metadata": {
        "colab": {
          "base_uri": "https://localhost:8080/"
        },
        "id": "F0yu5bAvic_h",
        "outputId": "76176b88-20b8-4374-bcab-99a483a832dd"
      },
      "execution_count": 40,
      "outputs": [
        {
          "output_type": "stream",
          "name": "stdout",
          "text": [
            "              precision    recall  f1-score   support\n",
            "\n",
            "           0       0.81      0.87      0.84       109\n",
            "           1       0.91      0.87      0.89       167\n",
            "\n",
            "    accuracy                           0.87       276\n",
            "   macro avg       0.86      0.87      0.87       276\n",
            "weighted avg       0.87      0.87      0.87       276\n",
            "\n",
            "[[ 95  14]\n",
            " [ 22 145]]\n"
          ]
        }
      ]
    },
    {
      "cell_type": "code",
      "source": [
        "#visualize confusion matrix in heatmap\n",
        "plt.figure(figsize=(3,3))\n",
        "cm=confusion_matrix(y_test,y_pred)\n",
        "sns.heatmap(cm,annot=True,fmt='d')  #fmt means format and d means integer"
      ],
      "metadata": {
        "colab": {
          "base_uri": "https://localhost:8080/",
          "height": 228
        },
        "id": "y_LGnAyGi4mL",
        "outputId": "a5ef7b31-3ed3-4925-f229-252db6f7aa47"
      },
      "execution_count": 41,
      "outputs": [
        {
          "output_type": "execute_result",
          "data": {
            "text/plain": [
              "<matplotlib.axes._subplots.AxesSubplot at 0x7f0e29a83450>"
            ]
          },
          "metadata": {},
          "execution_count": 41
        },
        {
          "output_type": "display_data",
          "data": {
            "text/plain": [
              "<Figure size 216x216 with 2 Axes>"
            ],
            "image/png": "[encoded data removed]"
          },
          "metadata": {
            "needs_background": "light"
          }
        }
      ]
    },
    {
      "cell_type": "code",
      "source": [
        "# to see the weight and bias of hidden layers\n",
        "model.layers[0].get_weights()"
      ],
      "metadata": {
        "colab": {
          "base_uri": "https://localhost:8080/"
        },
        "id": "x6XKHHgSi_EP",
        "outputId": "2fcee9ed-f8a3-4e42-b8dd-b4dcd6da2c2b"
      },
      "execution_count": 42,
      "outputs": [
        {
          "output_type": "execute_result",
          "data": {
            "text/plain": [
              "[array([[ 0.38255388, -0.52438563,  0.0105204 , -0.0662377 , -0.25232863,\n",
              "         -0.20650531,  0.00477633, -0.27840328, -0.375516  , -0.19147651,\n",
              "         -0.00532099, -0.4804928 ,  0.22043532, -0.15952581,  0.16875236,\n",
              "         -0.29798177, -0.08801819,  0.31006894,  0.31055024, -0.4054352 ],\n",
              "        [-0.46684274,  0.14758596,  0.26901162,  0.09462348, -0.11687259,\n",
              "          0.1806419 ,  0.10846361,  0.15674849, -0.4873032 , -0.15264493,\n",
              "         -0.45003074, -0.05237469, -0.18897372, -0.5543233 ,  0.172477  ,\n",
              "          0.49222493,  0.24174272,  0.25110024,  0.28307962,  0.11790392],\n",
              "        [-0.15301132, -0.19431672,  0.42215073,  0.10654633, -0.44463503,\n",
              "          0.06418379, -0.36462545, -0.16529128,  0.15853588,  0.42615065,\n",
              "         -0.25440937, -0.01561274,  0.07365776, -0.1270757 , -0.08399788,\n",
              "         -0.37814564, -0.2135656 ,  0.56816626, -0.34307086, -0.33514175],\n",
              "        [-0.11510625,  0.14307813,  0.20534149,  0.3725142 , -0.11030778,\n",
              "         -0.48042354,  0.0768953 ,  0.16174431,  0.4647914 , -0.04043771,\n",
              "          0.1666819 , -0.2455943 , -0.4077674 ,  0.31204808,  0.23121503,\n",
              "         -0.04630963,  0.34435615,  0.41468486,  0.37960902, -0.03116219],\n",
              "        [-0.38527668,  0.3230131 ,  0.79019815,  0.1181777 , -0.15841764,\n",
              "          0.3226217 ,  0.22595721,  0.26246327,  0.12269083, -0.25668007,\n",
              "         -0.29543567,  0.34347713,  0.38261467,  0.14541934, -0.2502111 ,\n",
              "          0.03614559,  0.02693888,  0.11688932, -0.14091273,  0.02181787],\n",
              "        [-0.40251994,  0.25038308, -0.17442611, -0.00689232,  0.11638878,\n",
              "          0.02594302, -0.00188295, -0.20699602,  0.36920142, -0.18506892,\n",
              "          0.10734656,  0.06976967, -0.1747692 ,  0.21983053,  0.33709446,\n",
              "         -0.34494457, -0.1808422 ,  0.2634426 , -0.08361415, -0.01712791],\n",
              "        [-0.2577456 ,  0.13898012,  0.10902305,  0.21322334,  0.3329792 ,\n",
              "         -0.3045469 , -0.14750719, -0.32914612, -0.28417856, -0.04668863,\n",
              "          0.39871755, -0.10855961,  0.2959073 , -0.09803908, -0.33545506,\n",
              "         -0.35405055, -0.08357728, -0.05470324, -0.43138346, -0.25732997],\n",
              "        [ 0.00616857, -0.20668896,  0.03924302,  0.14618823, -0.3668185 ,\n",
              "          0.24945985, -0.4039457 ,  0.07272299,  0.3044622 ,  0.24883504,\n",
              "         -0.41430262,  0.25030854,  0.02390707, -0.3719326 , -0.23060857,\n",
              "         -0.04779889,  0.06016081, -0.28883576,  0.09200325, -0.19523847],\n",
              "        [ 0.4853976 , -0.09700101, -0.1462437 ,  0.33669594,  0.00766011,\n",
              "          0.02935748,  0.26813647, -0.01374962, -0.42978147,  0.16864853,\n",
              "         -0.308728  , -0.37522843,  0.27794746,  0.42359462,  0.2823071 ,\n",
              "          0.23165211, -0.36587572,  0.2822909 , -0.43867773,  0.20183882],\n",
              "        [-0.33022705, -0.0626911 ,  0.24584335, -0.07336137, -0.08068884,\n",
              "         -0.1466912 , -0.26908547,  0.00762409,  0.14562048,  0.25672013,\n",
              "         -0.38297552, -0.03985102, -0.12514342,  0.3586784 , -0.12268192,\n",
              "          0.34707597,  0.37675434,  0.19632307,  0.27226004,  0.09266584],\n",
              "        [-0.31822872, -0.08429755, -0.395325  ,  0.21705265,  0.00441995,\n",
              "         -0.05179902,  0.39382577,  0.01837011, -0.12660699, -0.11534112,\n",
              "          0.43003938,  0.14629763, -0.3460361 ,  0.01828578,  0.03692022,\n",
              "         -0.20654614, -0.16347067,  0.32021967, -0.36426893,  0.44434357]],\n",
              "       dtype=float32),\n",
              " array([-0.04007503,  0.03730485,  0.03752569, -0.00388195,  0.01493287,\n",
              "         0.0957137 ,  0.03981517, -0.02099655,  0.04231144, -0.01062783,\n",
              "         0.1601869 ,  0.01955068,  0.02308662,  0.00623475,  0.01501243,\n",
              "         0.00750999, -0.00198999,  0.05388374, -0.01276882, -0.0387719 ],\n",
              "       dtype=float32)]"
            ]
          },
          "metadata": {},
          "execution_count": 42
        }
      ]
    },
    {
      "cell_type": "code",
      "source": [
        "# to see the weight and bias of hidden 1 layers\n",
        "model.layers[1].get_weights()"
      ],
      "metadata": {
        "colab": {
          "base_uri": "https://localhost:8080/"
        },
        "id": "t0-XNg6WjCEW",
        "outputId": "5e218e30-4c0d-4d34-b1e7-da56c480c556"
      },
      "execution_count": 43,
      "outputs": [
        {
          "output_type": "execute_result",
          "data": {
            "text/plain": [
              "[array([[-1.65105000e-01,  4.11027484e-02, -2.74415880e-01,\n",
              "          6.56206682e-02, -2.63172220e-02,  3.42782110e-01,\n",
              "          5.17364889e-02, -2.41725206e-01,  4.65718955e-01,\n",
              "         -2.84624994e-02, -3.57082546e-01,  4.30199504e-01,\n",
              "         -1.66214466e-01,  4.30421919e-01, -1.97501853e-01,\n",
              "         -2.48907786e-03, -2.04792142e-01,  2.29759082e-01,\n",
              "          2.41614040e-02, -2.59881437e-01],\n",
              "        [-3.27132083e-02, -2.46208459e-01,  3.55803341e-01,\n",
              "         -3.75566840e-01, -2.51734883e-01, -3.66412789e-01,\n",
              "          6.77877739e-02,  1.01292111e-01,  1.40652999e-01,\n",
              "          4.20342684e-01,  1.16364695e-01, -3.59363437e-01,\n",
              "          4.05837625e-01, -1.65112928e-01, -1.36113420e-01,\n",
              "          6.58457205e-02,  3.62456381e-01, -1.10937104e-01,\n",
              "         -2.10218638e-01, -2.68301815e-01],\n",
              "        [-5.13205025e-03, -3.52859020e-01, -1.97354332e-01,\n",
              "         -1.87352151e-01, -7.97155201e-02, -1.31783159e-02,\n",
              "          4.88315076e-01, -1.26447961e-01,  3.43157619e-04,\n",
              "          6.04808807e-01,  1.36941224e-01, -1.50158405e-01,\n",
              "          4.32710767e-01, -2.15478957e-01, -2.32375748e-02,\n",
              "          2.82761902e-01, -1.92530423e-01,  8.29197019e-02,\n",
              "         -1.66477203e-01, -2.47103244e-01],\n",
              "        [ 2.84461081e-01,  2.16662779e-01, -2.00123399e-01,\n",
              "         -1.34246901e-01,  3.00497025e-01,  3.35904092e-01,\n",
              "         -1.44716520e-02,  5.67037202e-02, -2.78002679e-01,\n",
              "         -2.54576534e-01, -1.03556462e-01,  2.98171967e-01,\n",
              "         -1.36560917e-01,  5.16651012e-02, -3.35257441e-01,\n",
              "         -2.44671732e-01,  1.95305720e-01,  1.62972510e-01,\n",
              "          3.37538004e-01, -1.25691965e-01],\n",
              "        [ 1.93219021e-01,  1.26030445e-01, -1.89462453e-01,\n",
              "         -3.83037269e-01,  3.37304145e-01,  7.23994523e-02,\n",
              "         -3.15930694e-01,  3.25433873e-02, -3.01269621e-01,\n",
              "         -5.16121313e-02,  1.00528203e-01, -2.90185530e-02,\n",
              "         -2.53853142e-01, -6.46762252e-02,  1.72013298e-01,\n",
              "         -1.54772416e-01,  1.90727681e-01,  1.67764992e-01,\n",
              "         -2.19954133e-01,  1.65528581e-01],\n",
              "        [ 1.63095713e-01,  1.41478539e-01,  4.36684757e-01,\n",
              "          5.37428865e-03,  2.30672911e-01, -1.63368389e-01,\n",
              "         -9.75471660e-02,  1.56862929e-01, -2.77404249e-01,\n",
              "          5.46785414e-01, -2.94070691e-01, -1.85579643e-01,\n",
              "          2.36989647e-01,  2.09214911e-01,  2.25501314e-01,\n",
              "         -3.24608862e-01, -1.76890433e-01,  5.10774041e-03,\n",
              "          1.22344770e-01,  2.73433775e-01],\n",
              "        [ 1.98564410e-01,  2.02247769e-01,  1.78154349e-01,\n",
              "         -3.33877690e-02, -3.74009430e-01, -2.17554569e-01,\n",
              "         -3.78588326e-02, -2.94073105e-01, -1.02438293e-01,\n",
              "         -7.48972874e-03,  3.06036949e-01, -2.45738357e-01,\n",
              "         -1.26503244e-01, -6.40177280e-02,  4.08274561e-01,\n",
              "          2.42639169e-01,  5.83132468e-02, -1.95584759e-01,\n",
              "          3.34470510e-01,  5.05697429e-02],\n",
              "        [ 1.66473985e-02, -3.71825516e-01,  4.07884330e-01,\n",
              "          2.96355426e-01,  4.11850691e-01, -5.74844070e-02,\n",
              "          2.27636665e-01,  1.52565017e-01, -2.66981095e-01,\n",
              "          7.34299347e-02,  4.30471562e-02,  1.63717151e-01,\n",
              "          3.52018267e-01, -1.22534014e-01,  2.29602471e-01,\n",
              "         -3.06397766e-01,  2.31996268e-01,  9.69597399e-02,\n",
              "          3.21606547e-01,  1.39574587e-01],\n",
              "        [ 1.08133428e-01,  2.52109617e-01,  1.69866428e-01,\n",
              "          2.37765446e-01, -3.32550198e-01,  9.72483605e-02,\n",
              "         -3.67710292e-01, -4.47514765e-02,  1.04080617e-01,\n",
              "          2.79487073e-01,  5.34960255e-02,  1.00043148e-01,\n",
              "         -1.60366714e-01,  3.30878377e-01, -4.19834107e-01,\n",
              "          1.20771319e-01, -5.16748689e-02, -3.32773715e-01,\n",
              "          2.31601641e-01, -3.28964472e-01],\n",
              "        [ 3.38773310e-01,  3.63924533e-01,  1.97428584e-01,\n",
              "         -3.00584227e-01,  1.84354320e-01,  1.90614745e-01,\n",
              "         -1.82568625e-01,  1.36353970e-01,  1.20655522e-01,\n",
              "          5.56463748e-03,  3.22176784e-01, -3.24405909e-01,\n",
              "          3.11915018e-02,  1.19946092e-01,  1.72183335e-01,\n",
              "          8.30358937e-02, -2.52263039e-01,  5.51676191e-02,\n",
              "         -7.56365582e-02, -1.05764918e-01],\n",
              "        [-2.49744385e-01,  3.71201962e-01, -3.08696598e-01,\n",
              "          8.09543878e-02, -1.03092827e-01,  2.77010173e-01,\n",
              "          9.53489766e-02,  5.00302427e-02,  1.61601573e-01,\n",
              "          1.25696063e-01, -2.85749882e-01, -2.03308880e-01,\n",
              "          1.20529637e-01,  4.60763782e-01,  4.74143624e-01,\n",
              "         -3.86103302e-01, -1.71062127e-01, -1.22755490e-01,\n",
              "          8.42570290e-02, -1.19482704e-01],\n",
              "        [ 6.63225353e-02, -8.86666849e-02,  3.71534824e-01,\n",
              "         -2.74237186e-01,  2.25021198e-01, -1.58201471e-01,\n",
              "         -2.94637382e-01, -3.74772958e-02, -2.61771053e-01,\n",
              "          2.99212217e-01, -8.79505500e-02, -1.32734612e-01,\n",
              "         -2.55517572e-01,  5.57295419e-02, -2.43838131e-01,\n",
              "         -2.55239040e-01, -1.87184587e-01,  3.53513539e-01,\n",
              "          6.81964606e-02,  1.76800936e-01],\n",
              "        [-2.59884119e-01, -1.25290513e-01,  2.64428288e-01,\n",
              "         -1.50570616e-01,  1.13870494e-01,  1.22845024e-01,\n",
              "         -9.92028713e-02, -1.09596990e-01, -5.82528375e-02,\n",
              "          2.98852116e-01, -1.48545980e-01,  1.43603131e-01,\n",
              "          3.30390066e-01,  9.02567059e-02, -2.80810237e-01,\n",
              "         -2.62496948e-01,  3.90079051e-01, -3.28326225e-01,\n",
              "         -2.09986448e-01,  1.98239814e-02],\n",
              "        [ 2.13595569e-01,  2.89281279e-01, -2.47399673e-01,\n",
              "          2.55532533e-01,  1.41137108e-01, -9.35685858e-02,\n",
              "          1.58682093e-01,  9.26979724e-03,  3.89486477e-02,\n",
              "         -4.93081897e-01, -2.10826546e-01, -1.41796365e-01,\n",
              "         -2.03942150e-01,  5.25884628e-01,  9.61964764e-03,\n",
              "         -1.80275917e-01,  1.35665968e-01, -2.72626668e-01,\n",
              "          2.77530938e-01,  2.48387773e-02],\n",
              "        [ 1.17566124e-01,  2.18396217e-01,  2.25108817e-01,\n",
              "         -3.25496167e-01,  2.00644732e-01,  2.28758186e-01,\n",
              "         -1.89880766e-02, -3.32410455e-01, -3.05584610e-01,\n",
              "         -1.17655687e-01,  1.58933386e-01, -9.69151780e-02,\n",
              "         -3.21526438e-01,  1.24325335e-01, -2.35349938e-01,\n",
              "          2.97250241e-01, -1.36027023e-01,  1.11995094e-01,\n",
              "         -1.84040591e-02,  1.11464605e-01],\n",
              "        [-9.35702175e-02, -6.61732852e-02, -3.29012126e-01,\n",
              "         -3.55215490e-01,  4.13053334e-01,  2.86865950e-01,\n",
              "          4.82958555e-01, -1.65695727e-01,  1.82611391e-01,\n",
              "          2.50834048e-01,  1.98349252e-01,  2.25682318e-01,\n",
              "          2.64329880e-01, -1.56202197e-01,  9.09414981e-03,\n",
              "         -2.62876004e-01, -2.46658415e-01, -2.02341229e-01,\n",
              "         -3.07988264e-02,  4.55016457e-02],\n",
              "        [-1.87631786e-01, -3.50174934e-01, -3.23189110e-01,\n",
              "         -1.09706849e-01, -4.22710814e-02, -3.98161381e-01,\n",
              "         -2.92254463e-02, -3.17228168e-01,  2.46555030e-01,\n",
              "          1.31159246e-01, -3.98186803e-01,  2.61133373e-01,\n",
              "         -3.81993987e-02,  1.49430990e-01, -1.48749784e-01,\n",
              "         -3.28293920e-01, -2.38800511e-01, -2.91097671e-01,\n",
              "          2.25205615e-01,  1.36510640e-01],\n",
              "        [-2.71203607e-01, -8.12075138e-02,  1.01082794e-01,\n",
              "         -1.37655452e-01, -2.06022039e-01,  2.67672509e-01,\n",
              "         -2.61135250e-01, -3.10931772e-01,  3.58542114e-01,\n",
              "          3.74958627e-02, -1.66022539e-01, -2.75997818e-01,\n",
              "         -8.63486975e-02, -8.38142410e-02,  3.21511626e-01,\n",
              "          3.31349641e-01, -3.56021792e-01, -2.78099746e-01,\n",
              "          3.21924239e-01,  4.09756362e-01],\n",
              "        [-2.96804190e-01, -3.01550388e-01, -2.91666746e-01,\n",
              "         -1.67743792e-03,  6.79138377e-02,  2.72216816e-02,\n",
              "          1.75012201e-01,  3.82320523e-01, -4.72414717e-02,\n",
              "         -4.12611246e-01, -3.92389923e-01, -1.91396877e-01,\n",
              "         -1.47489309e-01,  1.92010060e-01, -2.69826323e-01,\n",
              "         -2.90262729e-01, -2.79563159e-01, -1.81328252e-01,\n",
              "         -1.65440693e-01,  2.17939660e-01],\n",
              "        [-2.35503152e-01, -3.22503820e-02, -2.89913625e-01,\n",
              "         -4.84778639e-03, -2.01571330e-01,  1.76979378e-01,\n",
              "         -3.38745326e-01, -3.76700610e-01, -3.43828440e-01,\n",
              "          1.42205888e-02,  3.95548269e-02, -1.30399585e-01,\n",
              "          6.88965768e-02, -3.73910040e-01,  1.95717871e-01,\n",
              "          1.36222288e-01, -3.05536568e-01,  1.76049426e-01,\n",
              "         -6.79099858e-02, -2.89627224e-01]], dtype=float32),\n",
              " array([ 0.02092333,  0.17774788,  0.0847559 , -0.07744558,  0.05860171,\n",
              "        -0.0070667 ,  0.01767386, -0.00179982,  0.12097979,  0.04895255,\n",
              "        -0.07763815,  0.01133293,  0.03772274,  0.0530895 ,  0.05563353,\n",
              "        -0.00275018,  0.02309733, -0.05975033,  0.04105892, -0.03931163],\n",
              "       dtype=float32)]"
            ]
          },
          "metadata": {},
          "execution_count": 43
        }
      ]
    },
    {
      "cell_type": "code",
      "source": [
        "# to see the weight and bias of hidden 2 layers\n",
        "model.layers[2].get_weights()"
      ],
      "metadata": {
        "colab": {
          "base_uri": "https://localhost:8080/"
        },
        "id": "GlfGm511jGNV",
        "outputId": "96ae88d4-6b19-4039-8d45-87ad140c57ad"
      },
      "execution_count": 44,
      "outputs": [
        {
          "output_type": "execute_result",
          "data": {
            "text/plain": [
              "[array([[-0.19408536],\n",
              "        [ 0.6488032 ],\n",
              "        [-0.35674956],\n",
              "        [-0.45510495],\n",
              "        [-0.29075256],\n",
              "        [ 0.3924059 ],\n",
              "        [-0.5911741 ],\n",
              "        [-0.10797332],\n",
              "        [ 0.5710821 ],\n",
              "        [-0.88585234],\n",
              "        [ 0.38565463],\n",
              "        [ 0.19364814],\n",
              "        [-0.35870457],\n",
              "        [ 0.6849652 ],\n",
              "        [ 0.5115844 ],\n",
              "        [-0.06050378],\n",
              "        [-0.17791706],\n",
              "        [-0.36581478],\n",
              "        [ 0.36727017],\n",
              "        [ 0.29541826]], dtype=float32), array([-0.09595119], dtype=float32)]"
            ]
          },
          "metadata": {},
          "execution_count": 44
        }
      ]
    },
    {
      "cell_type": "code",
      "source": [
        ""
      ],
      "metadata": {
        "id": "5bgpqH0MjJlc"
      },
      "execution_count": null,
      "outputs": []
    }
  ]
}